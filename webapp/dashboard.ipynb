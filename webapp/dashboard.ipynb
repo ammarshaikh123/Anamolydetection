{
 "cells": [
  {
   "cell_type": "code",
   "execution_count": 1,
   "metadata": {},
   "outputs": [],
   "source": [
    "import numpy as np\n",
    "import pandas as pd\n",
    "import os\n",
    "import sys\n",
    "import pickle\n",
    "import ipywidgets as widgets\n",
    "\n",
    "import plotly.express as px\n",
    "\n",
    "from IPython.display import clear_output\n",
    "\n",
    "module_path = os.path.abspath(os.path.join('..'))\n",
    "if module_path not in sys.path:\n",
    "    sys.path.append(module_path)\n",
    "    \n",
    "from custom_scripts.config import *\n",
    "from custom_scripts.prepare_data import prepare_data\n",
    "\n",
    "from sklearn.manifold import TSNE\n",
    "\n",
    "from sklearn.ensemble import IsolationForest\n",
    "from sklearn.svm import OneClassSVM\n",
    "from sklearn.covariance import EllipticEnvelope"
   ]
  },
  {
   "cell_type": "markdown",
   "metadata": {
    "jupyter": {
     "source_hidden": true
    }
   },
   "source": [
    "<p class=\"aligncenter\">\n",
    "<img src=\"./figures/header.jpg\" align=\"middle\" >\n",
    "</p>"
   ]
  },
  {
   "cell_type": "markdown",
   "metadata": {},
   "source": [
    "<h2 align=\"left\">Which day of the week do you want to analyze?</h2> "
   ]
  },
  {
   "cell_type": "code",
   "execution_count": 2,
   "metadata": {},
   "outputs": [
    {
     "data": {
      "application/vnd.jupyter.widget-view+json": {
       "model_id": "4d9f1b3d00d84490a3c40b728024e3ac",
       "version_major": 2,
       "version_minor": 0
      },
      "text/plain": [
       "Dropdown(description='Day of Week:', options=('Tuesday', 'Wednesday'), value='Tuesday')"
      ]
     },
     "metadata": {},
     "output_type": "display_data"
    }
   ],
   "source": [
    "selection = widgets.Dropdown(\n",
    "    options=['Tuesday','Wednesday'],\n",
    "    description='Day of Week:',\n",
    "    disabled=False\n",
    ")\n",
    "display(selection)"
   ]
  },
  {
   "cell_type": "markdown",
   "metadata": {},
   "source": [
    "<h2 align=\"left\">What fraction of total network traffic in the selected day do you want to inspect?</h2> "
   ]
  },
  {
   "cell_type": "markdown",
   "metadata": {},
   "source": [
    "\n",
    "\n",
    "<h5 align=\"left\">Note: All network traffic might take some time to load. Suggested value is 0.1</h5> "
   ]
  },
  {
   "cell_type": "code",
   "execution_count": 3,
   "metadata": {},
   "outputs": [
    {
     "data": {
      "application/vnd.jupyter.widget-view+json": {
       "model_id": "e434a84a4f974c8590c0403cae9e132c",
       "version_major": 2,
       "version_minor": 0
      },
      "text/plain": [
       "FloatSlider(value=0.1, continuous_update=False, description='Test:', max=1.0, step=0.01)"
      ]
     },
     "metadata": {},
     "output_type": "display_data"
    }
   ],
   "source": [
    "sample_size =widgets.FloatSlider(\n",
    "    value=0.1,\n",
    "    min=0,\n",
    "    max=1,\n",
    "    step=0.01,\n",
    "    description='Test:',\n",
    "    disabled=False,\n",
    "    continuous_update=False,\n",
    "    orientation='horizontal',\n",
    "    readout=True,\n",
    "    readout_format='.2f',\n",
    ")\n",
    "\n",
    "display(sample_size)"
   ]
  },
  {
   "cell_type": "code",
   "execution_count": 4,
   "metadata": {},
   "outputs": [
    {
     "data": {
      "application/vnd.jupyter.widget-view+json": {
       "model_id": "6b429e0704394409adfd1492af39a545",
       "version_major": 2,
       "version_minor": 0
      },
      "text/plain": [
       "Button(button_style='success', description='INSPECT', icon='check', style=ButtonStyle(), tooltip='Click to per…"
      ]
     },
     "metadata": {},
     "output_type": "display_data"
    },
    {
     "data": {
      "application/vnd.jupyter.widget-view+json": {
       "model_id": "8753a3d10d9c49e889d06e41baa24369",
       "version_major": 2,
       "version_minor": 0
      },
      "text/plain": [
       "Output()"
      ]
     },
     "metadata": {},
     "output_type": "display_data"
    }
   ],
   "source": [
    "go_button =widgets.Button(\n",
    "    description='INSPECT',\n",
    "    disabled=False,\n",
    "    button_style='success', # 'success', 'info', 'warning', 'danger' or ''\n",
    "    tooltip='Click to perform anomaly detection',\n",
    "    icon='check'\n",
    ")\n",
    "go_output = widgets.Output()\n",
    "\n",
    "def go_button_clicked(b):\n",
    "    with go_output:\n",
    "        clear_output()\n",
    "        anomaly_detector(selection,sample_size)\n",
    "        \n",
    "go_button.on_click(go_button_clicked)\n",
    "\n",
    "display(go_button,go_output)"
   ]
  },
  {
   "cell_type": "code",
   "execution_count": null,
   "metadata": {},
   "outputs": [],
   "source": [
    "def anomaly_detector(selection, sample_size, method='Mixed', predict='False',model='lof'):\n",
    "    \n",
    "    day_of_week = selection.value\n",
    "    frac = sample_size.value    \n",
    "    \n",
    "    try:\n",
    "    \n",
    "        print('Loading predictions...')\n",
    "        filename='../notebooks/predictions/novelty/'+day_of_week+'/'+model+'_anomalies_'+method+'.pkl'\n",
    "    \n",
    "        with open(filename,'rb') as file:\n",
    "            anomalies=pickle.load(file)\n",
    "        \n",
    "        print('Predictions loaded!')\n",
    "    \n",
    "    except:\n",
    "        \n",
    "        _, tue_test_data, wed_test_data = novelty_detection_preparation(method=method)\n",
    "    \n",
    "        X_tue_test, _ = prepare_data(data=tue_test_data,class_column='Label',classes='binary',neg_class='BENIGN')\n",
    "        X_wed_test, _ = prepare_data(data=wed_test_data,class_column='Label',classes='binary',neg_class='BENIGN')\n",
    "    \n",
    "        X_test ={'Tuesday':X_tue_test,'Wednesday':X_wed_test}      \n",
    "    \n",
    "        filename = '../notebooks/models/novelty/'+model+'_model_'+method+'.pkl'\n",
    "    \n",
    "        with open(filename,'rb') as file:\n",
    "            anomaly_model=pickle.load(file)\n",
    "    \n",
    "        print('Making predictions...')\n",
    "    \n",
    "        anomalies = anomaly_model.predict(X_test[day_of_week])\n",
    "    \n",
    "        filename_2 = '../notebooks/predictions/novelty/'+day_of_week+'/'+model+'_anomalies_'+method+'.pkl'\n",
    "    \n",
    "        with open(filename_2,'wb') as file:\n",
    "            pickle.dump(anomalies,file)   \n",
    "        \n",
    "        print('Predictions made! Also saved for future reference.')\n",
    "        \n",
    "    anomalies = (anomalies*-1 +1)*0.5\n",
    "    anomalies = anomalies.astype(int)\n",
    "      \n",
    "    vis_filename='../notebooks/tsne_transforms/novelty/'+day_of_week+'_perplexity_30_anomaly.pkl'\n",
    "    with open(vis_filename,'rb') as file:\n",
    "        x_vis=pickle.load(file)\n",
    "        \n",
    "    visual_sample = int(x_vis.shape[0]*frac)\n",
    "    index = np.random.randint(0,x_vis.shape[0],visual_sample)\n",
    "    x_red_vis = x_vis[index,:]    \n",
    "    \n",
    "    x_plotly = pd.DataFrame(x_red_vis,columns=['dim1','dim2'])\n",
    "    x_plotly['anomaly']=anomalies[index]\n",
    "    anomaly_dict={1:'Anomaly',0:'Normal'}\n",
    "    x_plotly['Label']=x_plotly['anomaly'].map(anomaly_dict)\n",
    "        \n",
    "    fig = px.scatter(x_plotly, \n",
    "                     x = \"dim1\",\n",
    "                     y = 'dim2',\n",
    "                     color = 'Label',\n",
    "                     color_discrete_map = {'Anomaly':'limegreen','Normal':'midnightblue'},\n",
    "                     hover_name = 'Label',\n",
    "                     labels = {'dim1':'Latent Dimension 1','dim2':'Latent Dimension 2'},\n",
    "                     title = 'Anomaly Detection Results for '+day_of_week+' Network Traffic',\n",
    "                     render_mode = 'webgl',\n",
    "                     width = 1800,\n",
    "                     height = 1000,\n",
    "                     template = \"plotly\"\n",
    "                    )\n",
    "    \n",
    "    fig.update(layout={'title': {'x':0.5,\n",
    "                             'font':{'size':24}\n",
    "                            }, \n",
    "                   'legend':{\n",
    "                             'font':{'size':18}\n",
    "                            },\n",
    "                   'xaxis':{'title':\n",
    "                            {\n",
    "                             'font':{'size':18}\n",
    "                            }\n",
    "                            },\n",
    "                   'yaxis':{'title':\n",
    "                            {\n",
    "                             'font':{'size':18}\n",
    "                            }\n",
    "                            }\n",
    "                      }\n",
    "              )\n",
    "    \n",
    "    \n",
    "    fig.show()"
   ]
  },
  {
   "cell_type": "code",
   "execution_count": null,
   "metadata": {},
   "outputs": [],
   "source": []
  }
 ],
 "metadata": {
  "kernelspec": {
   "display_name": "Python 3",
   "language": "python",
   "name": "python3"
  },
  "language_info": {
   "codemirror_mode": {
    "name": "ipython",
    "version": 3
   },
   "file_extension": ".py",
   "mimetype": "text/x-python",
   "name": "python",
   "nbconvert_exporter": "python",
   "pygments_lexer": "ipython3",
   "version": "3.7.3"
  }
 },
 "nbformat": 4,
 "nbformat_minor": 4
}
