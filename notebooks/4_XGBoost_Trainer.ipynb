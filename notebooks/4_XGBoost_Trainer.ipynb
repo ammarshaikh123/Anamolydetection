{
 "cells": [
  {
   "cell_type": "code",
   "execution_count": 1,
   "metadata": {},
   "outputs": [],
   "source": [
    "import numpy as np\n",
    "import pandas as pd\n",
    "import os\n",
    "import sys\n",
    "import matplotlib.pyplot as plt\n",
    "import seaborn as sns\n",
    "import pickle\n",
    "\n",
    "%matplotlib inline\n",
    "plt.rcParams['figure.figsize'] = [10, 8]\n",
    "\n",
    "module_path = os.path.abspath(os.path.join('..'))\n",
    "if module_path not in sys.path:\n",
    "    sys.path.append(module_path)\n",
    "    \n",
    "from custom_scripts.config import loader\n",
    "from custom_scripts.evaluate_performance import display_scores\n",
    "from custom_scripts.prepare_data import prepare_data\n",
    "\n",
    "from sklearn.metrics import accuracy_score, confusion_matrix, roc_auc_score\n",
    "from sklearn.model_selection import KFold\n",
    "\n",
    "import xgboost as xgb"
   ]
  },
  {
   "cell_type": "markdown",
   "metadata": {},
   "source": [
    "### Load the data"
   ]
  },
  {
   "cell_type": "code",
   "execution_count": 5,
   "metadata": {},
   "outputs": [],
   "source": [
    "data_file= loader(day_of_week='Tuesday',data_type='processed',subtype='Normalized')\n",
    "\n",
    "df=pd.read_pickle(data_file)"
   ]
  },
  {
   "cell_type": "markdown",
   "metadata": {},
   "source": [
    "## Preparing the Dataset for Classification \n",
    "\n",
    "Here we need to separate our class variable, which in our case is \"Label\" from the rest of the dataset."
   ]
  },
  {
   "cell_type": "code",
   "execution_count": 6,
   "metadata": {},
   "outputs": [],
   "source": [
    "X,y=prepare_data(data=df,class_column='Label',classes='binary',neg_class='BENIGN')"
   ]
  },
  {
   "cell_type": "markdown",
   "metadata": {},
   "source": [
    "## Training and predicting XGBoost w/ cross validation\n",
    "\n",
    "We will use 5-fold cross validation to evaluate the performance of the xgboost classifier on our dataset.\n",
    "\n",
    "https://www.kaggle.com/stuarthallows/using-xgboost-with-scikit-learn"
   ]
  },
  {
   "cell_type": "code",
   "execution_count": 10,
   "metadata": {},
   "outputs": [],
   "source": [
    "kfold = KFold(n_splits=5, shufday_of_weekue, random_state=55)\n",
    "\n",
    "cm = []\n",
    "acc = []\n",
    "auc_score = []\n",
    "\n",
    "for train_index, test_index in kfold.split(X):   \n",
    "    \n",
    "    X_train, X_test = X[train_index], X[test_index]\n",
    "    y_train, y_test = y[train_index], y[test_index]\n",
    "\n",
    "    xgb_model = xgb.XGBClassifier(objective=\"binary:logistic\", random_state=42)\n",
    "    xgb_model.fit(X_train, y_train)\n",
    "    \n",
    "    y_pred = xgb_model.predict(X_test)\n",
    "    \n",
    "    cm.append(confusion_matrix(y_test,y_pred))\n",
    "    acc.append(accuracy_score(y_test,y_pred))\n",
    "    auc_score.append(roc_auc_score(y_test,y_pred))"
   ]
  },
  {
   "cell_type": "code",
   "execution_count": 15,
   "metadata": {},
   "outputs": [
    {
     "name": "stdout",
     "output_type": "stream",
     "text": [
      "Scores: [0.9984813641688723, 0.9984596582321504, 0.9983222568537977, 0.9982933302478287, 0.9981559288694759]\n",
      "Mean: 0.998\n",
      "Std: 0.000\n"
     ]
    }
   ],
   "source": [
    "display_scores(acc)"
   ]
  },
  {
   "cell_type": "code",
   "execution_count": 16,
   "metadata": {},
   "outputs": [
    {
     "name": "stdout",
     "output_type": "stream",
     "text": [
      "Scores: [0.9987039015025628, 0.9986227694583334, 0.9985249598593898, 0.9984957230306675, 0.9983597266869628]\n",
      "Mean: 0.999\n",
      "Std: 0.000\n"
     ]
    }
   ],
   "source": [
    "display_scores(auc_score)"
   ]
  },
  {
   "cell_type": "markdown",
   "metadata": {},
   "source": [
    "## Save the trained model\n",
    "\n",
    "Let's pickle our saved model as a serialized binary file for later fetching."
   ]
  },
  {
   "cell_type": "code",
   "execution_count": 13,
   "metadata": {},
   "outputs": [],
   "source": [
    "filename='./models/xgb_model_'+day_of_week+'.pkl'\n",
    "\n",
    "with open(filename,'wb') as file:\n",
    "    pickle.dump(xgb_model,file)"
   ]
  }
 ],
 "metadata": {
  "kernelspec": {
   "display_name": "Python [conda env:insight]",
   "language": "python",
   "name": "conda-env-insight-py"
  },
  "language_info": {
   "codemirror_mode": {
    "name": "ipython",
    "version": 3
   },
   "file_extension": ".py",
   "mimetype": "text/x-python",
   "name": "python",
   "nbconvert_exporter": "python",
   "pygments_lexer": "ipython3",
   "version": "3.7.4"
  }
 },
 "nbformat": 4,
 "nbformat_minor": 4
}
