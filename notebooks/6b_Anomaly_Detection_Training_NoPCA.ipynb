{
 "cells": [
  {
   "cell_type": "code",
   "execution_count": 1,
   "metadata": {},
   "outputs": [],
   "source": [
    "%load_ext autoreload\n",
    "%autoreload\n",
    "\n",
    "import numpy as np\n",
    "import pandas as pd\n",
    "import os\n",
    "import sys\n",
    "import pickle\n",
    "\n",
    "module_path = os.path.abspath(os.path.join('..'))\n",
    "if module_path not in sys.path:\n",
    "    sys.path.append(module_path)\n",
    "    \n",
    "from custom_scripts.config import loader\n",
    "from custom_scripts.evaluate_performance import evaluate_performance\n",
    "from custom_scripts.prepare_data import prepare_data\n",
    "\n",
    "from sklearn.ensemble import IsolationForest\n",
    "from sklearn.svm import OneClassSVM\n",
    "from sklearn.covariance import EllipticEnvelope\n",
    "from sklearn.neighbors import LocalOutlierFactor"
   ]
  },
  {
   "cell_type": "markdown",
   "metadata": {},
   "source": [
    "### Load the data"
   ]
  },
  {
   "cell_type": "code",
   "execution_count": 23,
   "metadata": {},
   "outputs": [],
   "source": [
    "day_of_week='Monday'\n",
    "\n",
    "data_file= loader(day_of_week=day_of_week,data_type='processed',subtype='Normalized')\n",
    "df=pd.read_pickle(data_file)"
   ]
  },
  {
   "cell_type": "markdown",
   "metadata": {},
   "source": [
    "## Preparing the Dataset for Anomaly Detection \n",
    "\n",
    "Here we need to separate our class variable, which in our case is \"Label\" from the rest of the dataset.\n",
    "\n",
    "Anomaly detection algorithms output +1 for inlier and -1 for outliers. Therefore:\n",
    "\n",
    "1. We need to map multiple classes to binary classes.\n",
    "2. Since we are interesting in detecting anomalies, the negative class is 'BENIGN'."
   ]
  },
  {
   "cell_type": "code",
   "execution_count": 24,
   "metadata": {},
   "outputs": [],
   "source": [
    "X,y=prepare_data(data=df,class_column='Label',classes='binary',neg_class='BENIGN')"
   ]
  },
  {
   "cell_type": "markdown",
   "metadata": {},
   "source": [
    "## 1. Training the Isolation Forest Method\n",
    "\n",
    "We train an Isolation Forest model to detect anomalies in the dataset. Returns -1 for outlier and 1 for inliers.\n",
    "\n",
    "https://scikit-learn.org/stable/modules/generated/sklearn.ensemble.IsolationForest.html"
   ]
  },
  {
   "cell_type": "markdown",
   "metadata": {},
   "source": [
    "### Train and save the model\n",
    "\n",
    "We first train our model and pickle save it for future retrieval. \n",
    "\n",
    "The contamination parameter of the model is the expected fraction of outliers in the dataset and should be adjusted if necessary."
   ]
  },
  {
   "cell_type": "code",
   "execution_count": 26,
   "metadata": {},
   "outputs": [
    {
     "name": "stderr",
     "output_type": "stream",
     "text": [
      "C:\\Users\\emirk\\Anaconda3\\envs\\insight\\lib\\site-packages\\sklearn\\ensemble\\iforest.py:237: FutureWarning: default contamination parameter 0.1 will change in version 0.22 to \"auto\". This will change the predict method behavior.\n",
      "  FutureWarning)\n"
     ]
    }
   ],
   "source": [
    "isf = IsolationForest(behaviour='new', random_state=42, n_jobs=3)\n",
    "isf.fit(X)\n",
    "\n",
    "filename='./models/isf_model_'+day_of_week+'.pkl'\n",
    "\n",
    "with open(filename,'wb') as file:\n",
    "    pickle.dump(isf,file)"
   ]
  },
  {
   "cell_type": "markdown",
   "metadata": {},
   "source": [
    "## 2. Training the one-class SVM Method\n",
    "\n",
    "We train an one class SVM model to detect anomalies in the dataset. Returns -1 for outlier and 1 for inliers.\n",
    "\n",
    "See: https://scikit-learn.org/stable/modules/generated/sklearn.svm.OneClassSVM.html#sklearn.svm.OneClassSVM"
   ]
  },
  {
   "cell_type": "markdown",
   "metadata": {},
   "source": [
    "### Train and save the model\n",
    "\n",
    "We first train our model and pickle save it for future retrieval. The kernel choice is **Radial Basis Function** ('rbf) as we would like to have locality in the decision boundaries learned by our SVM."
   ]
  },
  {
   "cell_type": "code",
   "execution_count": 6,
   "metadata": {},
   "outputs": [],
   "source": [
    "svm_model=OneClassSVM(kernel='rbf',gamma='auto')\n",
    "svm_model.fit(X)\n",
    "\n",
    "filename='./models/svm_model_'+day_of_week+'.pkl'\n",
    "\n",
    "with open(filename,'wb') as file:\n",
    "    pickle.dump(svm_model,file)"
   ]
  },
  {
   "cell_type": "markdown",
   "metadata": {},
   "source": [
    "## 3. Training the Elliptic Envelope method\n",
    "\n",
    "We train an an Elliptic envelope model designed to detect outliers in a Gaussian distributed dataset.\n",
    "\n",
    "Returns -1 for outlier and 1 for inliers.\n",
    "\n",
    "See: https://scikit-learn.org/stable/modules/generated/sklearn.covariance.EllipticEnvelope.html"
   ]
  },
  {
   "cell_type": "markdown",
   "metadata": {},
   "source": [
    "### Train and save the model\n",
    "\n",
    "We first train our model and pickle save it for future retrieval. \n",
    "\n",
    "The contamination parameter of the model is the expected fraction of outliers in the dataset and should be adjusted if necessary."
   ]
  },
  {
   "cell_type": "code",
   "execution_count": 27,
   "metadata": {},
   "outputs": [
    {
     "name": "stderr",
     "output_type": "stream",
     "text": [
      "C:\\Users\\emirk\\Anaconda3\\envs\\insight\\lib\\site-packages\\sklearn\\covariance\\robust_covariance.py:644: UserWarning: The covariance matrix associated to your dataset is not full rank\n",
      "  warnings.warn(\"The covariance matrix associated to your dataset \"\n"
     ]
    }
   ],
   "source": [
    "cov = EllipticEnvelope(contamination=0.1,random_state=0)\n",
    "cov.fit(X)\n",
    "\n",
    "filename='./models/cov_model_'+day_of_week+'.pkl'\n",
    "\n",
    "with open(filename,'wb') as file:\n",
    "    pickle.dump(cov,file)"
   ]
  },
  {
   "cell_type": "markdown",
   "metadata": {},
   "source": [
    "## 4. Training the Local Outlier Factor (LOF) method\n",
    "\n",
    "We train an an LOF model to detect anomalies in the dataset.\n",
    "Returns -1 for outlier and 1 for inliers.\n",
    "\n",
    "https://scikit-learn.org/stable/modules/generated/sklearn.neighbors.LocalOutlierFactor.html"
   ]
  },
  {
   "cell_type": "code",
   "execution_count": 28,
   "metadata": {},
   "outputs": [
    {
     "name": "stderr",
     "output_type": "stream",
     "text": [
      "C:\\Users\\emirk\\Anaconda3\\envs\\insight\\lib\\site-packages\\sklearn\\neighbors\\lof.py:236: FutureWarning: default contamination parameter 0.1 will change in version 0.22 to \"auto\". This will change the predict method behavior.\n",
      "  FutureWarning)\n"
     ]
    }
   ],
   "source": [
    "Novelty= True\n",
    "\n",
    "lof = LocalOutlierFactor(n_neighbors=35, novelty=Novelty,n_jobs=3)\n",
    "\n",
    "if Novelty:\n",
    "\n",
    "    lof = lof.fit(X)\n",
    "\n",
    "    filename='./models/lof_model_'+day_of_week+'.pkl'\n",
    "\n",
    "    with open(filename,'wb') as file:\n",
    "        pickle.dump(lof,file)\n",
    "\n",
    "else:\n",
    "\n",
    "    lof_anomalies=lof.fit_predict(x_red_pca)\n",
    "\n",
    "    filename='./predictions/lof_anomalies_'+day_of_week+'_PCA_'+str(new_dimension)+'.pkl'\n",
    "\n",
    "    with open(filename,'wb') as file:\n",
    "        pickle.dump(lof_anomalies,file)"
   ]
  },
  {
   "cell_type": "code",
   "execution_count": null,
   "metadata": {},
   "outputs": [],
   "source": []
  }
 ],
 "metadata": {
  "kernelspec": {
   "display_name": "Python [conda env:insight]",
   "language": "python",
   "name": "conda-env-insight-py"
  },
  "language_info": {
   "codemirror_mode": {
    "name": "ipython",
    "version": 3
   },
   "file_extension": ".py",
   "mimetype": "text/x-python",
   "name": "python",
   "nbconvert_exporter": "python",
   "pygments_lexer": "ipython3",
   "version": "3.7.4"
  }
 },
 "nbformat": 4,
 "nbformat_minor": 4
}
