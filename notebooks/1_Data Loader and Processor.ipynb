{
 "cells": [
  {
   "cell_type": "code",
   "execution_count": 1,
   "metadata": {},
   "outputs": [],
   "source": [
    "import numpy as np\n",
    "import pandas\n",
    "import os\n",
    "import matplotlib.pyplot as plt\n",
    "import seaborn as sns\n",
    "from sklearn.preprocessing import power_transform\n",
    "\n",
    "%matplotlib inline\n",
    "plt.rcParams['figure.figsize'] = [10, 8]"
   ]
  },
  {
   "cell_type": "markdown",
   "metadata": {},
   "source": [
    "### Define data directory and file name to load"
   ]
  },
  {
   "cell_type": "code",
   "execution_count": 2,
   "metadata": {},
   "outputs": [],
   "source": [
    "day_of_week = 'Monday'\n",
    "\n",
    "data_directory='../data/raw'\n",
    "file_name=day_of_week+'-WorkingHours.pcap_ISCX.csv'\n",
    "\n",
    "data_file=os.path.join(data_directory,file_name)"
   ]
  },
  {
   "cell_type": "markdown",
   "metadata": {},
   "source": [
    "### Load the data frame"
   ]
  },
  {
   "cell_type": "code",
   "execution_count": 6,
   "metadata": {},
   "outputs": [
    {
     "name": "stdout",
     "output_type": "stream",
     "text": [
      "<class 'pandas.core.frame.DataFrame'>\n",
      "RangeIndex: 529918 entries, 0 to 529917\n",
      "Data columns (total 79 columns):\n",
      "Destination Port               529918 non-null int64\n",
      "Flow Duration                  529918 non-null int64\n",
      "Total Fwd Packets              529918 non-null int64\n",
      "Total Backward Packets         529918 non-null int64\n",
      "Total Length of Fwd Packets    529918 non-null int64\n",
      "Total Length of Bwd Packets    529918 non-null int64\n",
      "Fwd Packet Length Max          529918 non-null int64\n",
      "Fwd Packet Length Min          529918 non-null int64\n",
      "Fwd Packet Length Mean         529918 non-null float64\n",
      "Fwd Packet Length Std          529918 non-null float64\n",
      "Bwd Packet Length Max          529918 non-null int64\n",
      "Bwd Packet Length Min          529918 non-null int64\n",
      "Bwd Packet Length Mean         529918 non-null float64\n",
      "Bwd Packet Length Std          529918 non-null float64\n",
      "Flow Bytes/s                   529854 non-null object\n",
      "Flow Packets/s                 529918 non-null object\n",
      "Flow IAT Mean                  529918 non-null float64\n",
      "Flow IAT Std                   529918 non-null float64\n",
      "Flow IAT Max                   529918 non-null int64\n",
      "Flow IAT Min                   529918 non-null int64\n",
      "Fwd IAT Total                  529918 non-null int64\n",
      "Fwd IAT Mean                   529918 non-null float64\n",
      "Fwd IAT Std                    529918 non-null float64\n",
      "Fwd IAT Max                    529918 non-null int64\n",
      "Fwd IAT Min                    529918 non-null int64\n",
      "Bwd IAT Total                  529918 non-null int64\n",
      "Bwd IAT Mean                   529918 non-null float64\n",
      "Bwd IAT Std                    529918 non-null float64\n",
      "Bwd IAT Max                    529918 non-null int64\n",
      "Bwd IAT Min                    529918 non-null int64\n",
      "Fwd PSH Flags                  529918 non-null int64\n",
      "Bwd PSH Flags                  529918 non-null int64\n",
      "Fwd URG Flags                  529918 non-null int64\n",
      "Bwd URG Flags                  529918 non-null int64\n",
      "Fwd Header Length              529918 non-null int64\n",
      "Bwd Header Length              529918 non-null int64\n",
      "Fwd Packets/s                  529918 non-null float64\n",
      "Bwd Packets/s                  529918 non-null float64\n",
      "Min Packet Length              529918 non-null int64\n",
      "Max Packet Length              529918 non-null int64\n",
      "Packet Length Mean             529918 non-null float64\n",
      "Packet Length Std              529918 non-null float64\n",
      "Packet Length Variance         529918 non-null float64\n",
      "FIN Flag Count                 529918 non-null int64\n",
      "SYN Flag Count                 529918 non-null int64\n",
      "RST Flag Count                 529918 non-null int64\n",
      "PSH Flag Count                 529918 non-null int64\n",
      "ACK Flag Count                 529918 non-null int64\n",
      "URG Flag Count                 529918 non-null int64\n",
      "CWE Flag Count                 529918 non-null int64\n",
      "ECE Flag Count                 529918 non-null int64\n",
      "Down/Up Ratio                  529918 non-null int64\n",
      "Average Packet Size            529918 non-null float64\n",
      "Avg Fwd Segment Size           529918 non-null float64\n",
      "Avg Bwd Segment Size           529918 non-null float64\n",
      "Fwd Header Length.1            529918 non-null int64\n",
      "Fwd Avg Bytes/Bulk             529918 non-null int64\n",
      "Fwd Avg Packets/Bulk           529918 non-null int64\n",
      "Fwd Avg Bulk Rate              529918 non-null int64\n",
      "Bwd Avg Bytes/Bulk             529918 non-null int64\n",
      "Bwd Avg Packets/Bulk           529918 non-null int64\n",
      "Bwd Avg Bulk Rate              529918 non-null int64\n",
      "Subflow Fwd Packets            529918 non-null int64\n",
      "Subflow Fwd Bytes              529918 non-null int64\n",
      "Subflow Bwd Packets            529918 non-null int64\n",
      "Subflow Bwd Bytes              529918 non-null int64\n",
      "Init_Win_bytes_forward         529918 non-null int64\n",
      "Init_Win_bytes_backward        529918 non-null int64\n",
      "act_data_pkt_fwd               529918 non-null int64\n",
      "min_seg_size_forward           529918 non-null int64\n",
      "Active Mean                    529918 non-null float64\n",
      "Active Std                     529918 non-null float64\n",
      "Active Max                     529918 non-null int64\n",
      "Active Min                     529918 non-null int64\n",
      "Idle Mean                      529918 non-null float64\n",
      "Idle Std                       529918 non-null float64\n",
      "Idle Max                       529918 non-null int64\n",
      "Idle Min                       529918 non-null int64\n",
      "Label                          529918 non-null object\n",
      "dtypes: float64(22), int64(54), object(3)\n",
      "memory usage: 319.4+ MB\n"
     ]
    }
   ],
   "source": [
    "df=pandas.read_csv(data_file,skipinitialspace=True,low_memory=False)\n",
    "df.info()"
   ]
  },
  {
   "cell_type": "markdown",
   "metadata": {},
   "source": [
    "Some of the features have the character '/' in them, which might be problematic. Therefore, such features are renamed to be on the safe side."
   ]
  },
  {
   "cell_type": "code",
   "execution_count": 7,
   "metadata": {},
   "outputs": [],
   "source": [
    "df.rename(columns={'Flow Bytes/s':'Flow Bytes per sec',\n",
    "                   'Flow Packets/s':'Flow Packets per sec',\n",
    "                   'Fwd Packets/s':'Fwd Packets per sec',\n",
    "                   'Bwd Packets/s':'Bwd Packets per sec',\n",
    "                   'Fwd Avg Bytes/Bulk':'Fwd Avg Bytes per Bulk',\n",
    "                   'Fwd Avg Packets/Bulk':'Fwd Avg Packets per Bulk',\n",
    "                   'Bwd Avg Bytes/Bulk':'Bwd Avg Bytes per Bulk',\n",
    "                   'Bwd Avg Packets/Bulk':'Bwd Avg Packets per Bulk',\n",
    "                   'Down/Up Ratio':'Down Up Ratio'\n",
    "                  },inplace=True)"
   ]
  },
  {
   "cell_type": "markdown",
   "metadata": {},
   "source": [
    "We also quickly check the distibution of attacks in the data set."
   ]
  },
  {
   "cell_type": "code",
   "execution_count": 5,
   "metadata": {},
   "outputs": [
    {
     "data": {
      "text/plain": [
       "BENIGN    1.0\n",
       "Name: Label, dtype: float64"
      ]
     },
     "execution_count": 5,
     "metadata": {},
     "output_type": "execute_result"
    }
   ],
   "source": [
    "df['Label'].value_counts(normalize=True)"
   ]
  },
  {
   "cell_type": "markdown",
   "metadata": {},
   "source": [
    "It looks like 96.90% of the row in our dataset are BENIGN communications and the remaining 3.10% are attacks on the network."
   ]
  },
  {
   "cell_type": "markdown",
   "metadata": {},
   "source": [
    "## Data Cleaning"
   ]
  },
  {
   "cell_type": "markdown",
   "metadata": {},
   "source": [
    "### Remove NaN values from the data frame"
   ]
  },
  {
   "cell_type": "code",
   "execution_count": 6,
   "metadata": {
    "scrolled": true
   },
   "outputs": [
    {
     "data": {
      "text/plain": [
       "int64      54\n",
       "float64    22\n",
       "object      3\n",
       "dtype: int64"
      ]
     },
     "execution_count": 6,
     "metadata": {},
     "output_type": "execute_result"
    }
   ],
   "source": [
    "clean_df=df.dropna()\n",
    "clean_df.dtypes.value_counts()"
   ]
  },
  {
   "cell_type": "code",
   "execution_count": 7,
   "metadata": {},
   "outputs": [
    {
     "data": {
      "text/html": [
       "<div>\n",
       "<style scoped>\n",
       "    .dataframe tbody tr th:only-of-type {\n",
       "        vertical-align: middle;\n",
       "    }\n",
       "\n",
       "    .dataframe tbody tr th {\n",
       "        vertical-align: top;\n",
       "    }\n",
       "\n",
       "    .dataframe thead th {\n",
       "        text-align: right;\n",
       "    }\n",
       "</style>\n",
       "<table border=\"1\" class=\"dataframe\">\n",
       "  <thead>\n",
       "    <tr style=\"text-align: right;\">\n",
       "      <th></th>\n",
       "      <th>Destination Port</th>\n",
       "      <th>Flow Duration</th>\n",
       "      <th>Total Fwd Packets</th>\n",
       "      <th>Total Backward Packets</th>\n",
       "      <th>Total Length of Fwd Packets</th>\n",
       "      <th>Total Length of Bwd Packets</th>\n",
       "      <th>Fwd Packet Length Max</th>\n",
       "      <th>Fwd Packet Length Min</th>\n",
       "      <th>Fwd Packet Length Mean</th>\n",
       "      <th>Fwd Packet Length Std</th>\n",
       "      <th>...</th>\n",
       "      <th>min_seg_size_forward</th>\n",
       "      <th>Active Mean</th>\n",
       "      <th>Active Std</th>\n",
       "      <th>Active Max</th>\n",
       "      <th>Active Min</th>\n",
       "      <th>Idle Mean</th>\n",
       "      <th>Idle Std</th>\n",
       "      <th>Idle Max</th>\n",
       "      <th>Idle Min</th>\n",
       "      <th>Label</th>\n",
       "    </tr>\n",
       "  </thead>\n",
       "  <tbody>\n",
       "    <tr>\n",
       "      <td>0</td>\n",
       "      <td>49188</td>\n",
       "      <td>4</td>\n",
       "      <td>2</td>\n",
       "      <td>0</td>\n",
       "      <td>12</td>\n",
       "      <td>0</td>\n",
       "      <td>6</td>\n",
       "      <td>6</td>\n",
       "      <td>6.0</td>\n",
       "      <td>0.0</td>\n",
       "      <td>...</td>\n",
       "      <td>20</td>\n",
       "      <td>0.0</td>\n",
       "      <td>0.0</td>\n",
       "      <td>0</td>\n",
       "      <td>0</td>\n",
       "      <td>0.0</td>\n",
       "      <td>0.0</td>\n",
       "      <td>0</td>\n",
       "      <td>0</td>\n",
       "      <td>BENIGN</td>\n",
       "    </tr>\n",
       "    <tr>\n",
       "      <td>1</td>\n",
       "      <td>49188</td>\n",
       "      <td>1</td>\n",
       "      <td>2</td>\n",
       "      <td>0</td>\n",
       "      <td>12</td>\n",
       "      <td>0</td>\n",
       "      <td>6</td>\n",
       "      <td>6</td>\n",
       "      <td>6.0</td>\n",
       "      <td>0.0</td>\n",
       "      <td>...</td>\n",
       "      <td>20</td>\n",
       "      <td>0.0</td>\n",
       "      <td>0.0</td>\n",
       "      <td>0</td>\n",
       "      <td>0</td>\n",
       "      <td>0.0</td>\n",
       "      <td>0.0</td>\n",
       "      <td>0</td>\n",
       "      <td>0</td>\n",
       "      <td>BENIGN</td>\n",
       "    </tr>\n",
       "    <tr>\n",
       "      <td>2</td>\n",
       "      <td>49188</td>\n",
       "      <td>1</td>\n",
       "      <td>2</td>\n",
       "      <td>0</td>\n",
       "      <td>12</td>\n",
       "      <td>0</td>\n",
       "      <td>6</td>\n",
       "      <td>6</td>\n",
       "      <td>6.0</td>\n",
       "      <td>0.0</td>\n",
       "      <td>...</td>\n",
       "      <td>20</td>\n",
       "      <td>0.0</td>\n",
       "      <td>0.0</td>\n",
       "      <td>0</td>\n",
       "      <td>0</td>\n",
       "      <td>0.0</td>\n",
       "      <td>0.0</td>\n",
       "      <td>0</td>\n",
       "      <td>0</td>\n",
       "      <td>BENIGN</td>\n",
       "    </tr>\n",
       "    <tr>\n",
       "      <td>3</td>\n",
       "      <td>49188</td>\n",
       "      <td>1</td>\n",
       "      <td>2</td>\n",
       "      <td>0</td>\n",
       "      <td>12</td>\n",
       "      <td>0</td>\n",
       "      <td>6</td>\n",
       "      <td>6</td>\n",
       "      <td>6.0</td>\n",
       "      <td>0.0</td>\n",
       "      <td>...</td>\n",
       "      <td>20</td>\n",
       "      <td>0.0</td>\n",
       "      <td>0.0</td>\n",
       "      <td>0</td>\n",
       "      <td>0</td>\n",
       "      <td>0.0</td>\n",
       "      <td>0.0</td>\n",
       "      <td>0</td>\n",
       "      <td>0</td>\n",
       "      <td>BENIGN</td>\n",
       "    </tr>\n",
       "    <tr>\n",
       "      <td>4</td>\n",
       "      <td>49486</td>\n",
       "      <td>3</td>\n",
       "      <td>2</td>\n",
       "      <td>0</td>\n",
       "      <td>12</td>\n",
       "      <td>0</td>\n",
       "      <td>6</td>\n",
       "      <td>6</td>\n",
       "      <td>6.0</td>\n",
       "      <td>0.0</td>\n",
       "      <td>...</td>\n",
       "      <td>20</td>\n",
       "      <td>0.0</td>\n",
       "      <td>0.0</td>\n",
       "      <td>0</td>\n",
       "      <td>0</td>\n",
       "      <td>0.0</td>\n",
       "      <td>0.0</td>\n",
       "      <td>0</td>\n",
       "      <td>0</td>\n",
       "      <td>BENIGN</td>\n",
       "    </tr>\n",
       "  </tbody>\n",
       "</table>\n",
       "<p>5 rows × 79 columns</p>\n",
       "</div>"
      ],
      "text/plain": [
       "   Destination Port  Flow Duration  Total Fwd Packets  Total Backward Packets  \\\n",
       "0             49188              4                  2                       0   \n",
       "1             49188              1                  2                       0   \n",
       "2             49188              1                  2                       0   \n",
       "3             49188              1                  2                       0   \n",
       "4             49486              3                  2                       0   \n",
       "\n",
       "   Total Length of Fwd Packets  Total Length of Bwd Packets  \\\n",
       "0                           12                            0   \n",
       "1                           12                            0   \n",
       "2                           12                            0   \n",
       "3                           12                            0   \n",
       "4                           12                            0   \n",
       "\n",
       "   Fwd Packet Length Max  Fwd Packet Length Min  Fwd Packet Length Mean  \\\n",
       "0                      6                      6                     6.0   \n",
       "1                      6                      6                     6.0   \n",
       "2                      6                      6                     6.0   \n",
       "3                      6                      6                     6.0   \n",
       "4                      6                      6                     6.0   \n",
       "\n",
       "   Fwd Packet Length Std  ...  min_seg_size_forward  Active Mean  Active Std  \\\n",
       "0                    0.0  ...                    20          0.0         0.0   \n",
       "1                    0.0  ...                    20          0.0         0.0   \n",
       "2                    0.0  ...                    20          0.0         0.0   \n",
       "3                    0.0  ...                    20          0.0         0.0   \n",
       "4                    0.0  ...                    20          0.0         0.0   \n",
       "\n",
       "   Active Max Active Min Idle Mean  Idle Std  Idle Max  Idle Min   Label  \n",
       "0           0          0       0.0       0.0         0         0  BENIGN  \n",
       "1           0          0       0.0       0.0         0         0  BENIGN  \n",
       "2           0          0       0.0       0.0         0         0  BENIGN  \n",
       "3           0          0       0.0       0.0         0         0  BENIGN  \n",
       "4           0          0       0.0       0.0         0         0  BENIGN  \n",
       "\n",
       "[5 rows x 79 columns]"
      ]
     },
     "execution_count": 7,
     "metadata": {},
     "output_type": "execute_result"
    }
   ],
   "source": [
    "clean_df.head()"
   ]
  },
  {
   "cell_type": "code",
   "execution_count": 8,
   "metadata": {
    "scrolled": true
   },
   "outputs": [
    {
     "name": "stdout",
     "output_type": "stream",
     "text": [
      "<class 'pandas.core.frame.DataFrame'>\n",
      "Int64Index: 529854 entries, 0 to 529917\n",
      "Data columns (total 79 columns):\n",
      "Destination Port               529854 non-null int64\n",
      "Flow Duration                  529854 non-null int64\n",
      "Total Fwd Packets              529854 non-null int64\n",
      "Total Backward Packets         529854 non-null int64\n",
      "Total Length of Fwd Packets    529854 non-null int64\n",
      "Total Length of Bwd Packets    529854 non-null int64\n",
      "Fwd Packet Length Max          529854 non-null int64\n",
      "Fwd Packet Length Min          529854 non-null int64\n",
      "Fwd Packet Length Mean         529854 non-null float64\n",
      "Fwd Packet Length Std          529854 non-null float64\n",
      "Bwd Packet Length Max          529854 non-null int64\n",
      "Bwd Packet Length Min          529854 non-null int64\n",
      "Bwd Packet Length Mean         529854 non-null float64\n",
      "Bwd Packet Length Std          529854 non-null float64\n",
      "Flow Bytes per sec             529854 non-null object\n",
      "Flow Packets per sec           529854 non-null object\n",
      "Flow IAT Mean                  529854 non-null float64\n",
      "Flow IAT Std                   529854 non-null float64\n",
      "Flow IAT Max                   529854 non-null int64\n",
      "Flow IAT Min                   529854 non-null int64\n",
      "Fwd IAT Total                  529854 non-null int64\n",
      "Fwd IAT Mean                   529854 non-null float64\n",
      "Fwd IAT Std                    529854 non-null float64\n",
      "Fwd IAT Max                    529854 non-null int64\n",
      "Fwd IAT Min                    529854 non-null int64\n",
      "Bwd IAT Total                  529854 non-null int64\n",
      "Bwd IAT Mean                   529854 non-null float64\n",
      "Bwd IAT Std                    529854 non-null float64\n",
      "Bwd IAT Max                    529854 non-null int64\n",
      "Bwd IAT Min                    529854 non-null int64\n",
      "Fwd PSH Flags                  529854 non-null int64\n",
      "Bwd PSH Flags                  529854 non-null int64\n",
      "Fwd URG Flags                  529854 non-null int64\n",
      "Bwd URG Flags                  529854 non-null int64\n",
      "Fwd Header Length              529854 non-null int64\n",
      "Bwd Header Length              529854 non-null int64\n",
      "Fwd Packets per sec            529854 non-null float64\n",
      "Bwd Packets per sec            529854 non-null float64\n",
      "Min Packet Length              529854 non-null int64\n",
      "Max Packet Length              529854 non-null int64\n",
      "Packet Length Mean             529854 non-null float64\n",
      "Packet Length Std              529854 non-null float64\n",
      "Packet Length Variance         529854 non-null float64\n",
      "FIN Flag Count                 529854 non-null int64\n",
      "SYN Flag Count                 529854 non-null int64\n",
      "RST Flag Count                 529854 non-null int64\n",
      "PSH Flag Count                 529854 non-null int64\n",
      "ACK Flag Count                 529854 non-null int64\n",
      "URG Flag Count                 529854 non-null int64\n",
      "CWE Flag Count                 529854 non-null int64\n",
      "ECE Flag Count                 529854 non-null int64\n",
      "Down Up Ratio                  529854 non-null int64\n",
      "Average Packet Size            529854 non-null float64\n",
      "Avg Fwd Segment Size           529854 non-null float64\n",
      "Avg Bwd Segment Size           529854 non-null float64\n",
      "Fwd Header Length.1            529854 non-null int64\n",
      "Fwd Avg Bytes per Bulk         529854 non-null int64\n",
      "Fwd Avg Packets per Bulk       529854 non-null int64\n",
      "Fwd Avg Bulk Rate              529854 non-null int64\n",
      "Bwd Avg Bytes per Bulk         529854 non-null int64\n",
      "Bwd Avg Packets per Bulk       529854 non-null int64\n",
      "Bwd Avg Bulk Rate              529854 non-null int64\n",
      "Subflow Fwd Packets            529854 non-null int64\n",
      "Subflow Fwd Bytes              529854 non-null int64\n",
      "Subflow Bwd Packets            529854 non-null int64\n",
      "Subflow Bwd Bytes              529854 non-null int64\n",
      "Init_Win_bytes_forward         529854 non-null int64\n",
      "Init_Win_bytes_backward        529854 non-null int64\n",
      "act_data_pkt_fwd               529854 non-null int64\n",
      "min_seg_size_forward           529854 non-null int64\n",
      "Active Mean                    529854 non-null float64\n",
      "Active Std                     529854 non-null float64\n",
      "Active Max                     529854 non-null int64\n",
      "Active Min                     529854 non-null int64\n",
      "Idle Mean                      529854 non-null float64\n",
      "Idle Std                       529854 non-null float64\n",
      "Idle Max                       529854 non-null int64\n",
      "Idle Min                       529854 non-null int64\n",
      "Label                          529854 non-null object\n",
      "dtypes: float64(22), int64(54), object(3)\n",
      "memory usage: 323.4+ MB\n"
     ]
    }
   ],
   "source": [
    "clean_df.info()"
   ]
  },
  {
   "cell_type": "markdown",
   "metadata": {},
   "source": [
    "There are still two 'object' type features in the dataset: Flow Bytes per sec and Flow Packets per sec"
   ]
  },
  {
   "cell_type": "markdown",
   "metadata": {},
   "source": [
    "### We now need to remove 'Infinity' values typed as string from the data."
   ]
  },
  {
   "cell_type": "code",
   "execution_count": 9,
   "metadata": {},
   "outputs": [
    {
     "name": "stdout",
     "output_type": "stream",
     "text": [
      "Int64Index([    33,     77,     80,     92,     97,    103,    105,    114,\n",
      "               207,    927,\n",
      "            ...\n",
      "            519886, 520492, 520890, 521677, 522154, 522818, 523375, 525559,\n",
      "            526233, 527506],\n",
      "           dtype='int64', length=373)\n"
     ]
    }
   ],
   "source": [
    "index_to_drop=clean_df.index[(clean_df['Flow Packets per sec']=='Infinity')|(clean_df['Flow Bytes per sec']=='Infinity')]\n",
    "print(index_to_drop)"
   ]
  },
  {
   "cell_type": "code",
   "execution_count": 10,
   "metadata": {},
   "outputs": [],
   "source": [
    "final_df=clean_df.drop(index_to_drop)"
   ]
  },
  {
   "cell_type": "code",
   "execution_count": 11,
   "metadata": {},
   "outputs": [],
   "source": [
    "final_df['Flow Bytes per sec']=final_df['Flow Bytes per sec'].astype('float')\n",
    "final_df['Flow Packets per sec']=final_df['Flow Packets per sec'].astype('float')"
   ]
  },
  {
   "cell_type": "code",
   "execution_count": 12,
   "metadata": {
    "scrolled": true
   },
   "outputs": [
    {
     "name": "stdout",
     "output_type": "stream",
     "text": [
      "<class 'pandas.core.frame.DataFrame'>\n",
      "Int64Index: 529481 entries, 0 to 529917\n",
      "Data columns (total 79 columns):\n",
      "Destination Port               529481 non-null int64\n",
      "Flow Duration                  529481 non-null int64\n",
      "Total Fwd Packets              529481 non-null int64\n",
      "Total Backward Packets         529481 non-null int64\n",
      "Total Length of Fwd Packets    529481 non-null int64\n",
      "Total Length of Bwd Packets    529481 non-null int64\n",
      "Fwd Packet Length Max          529481 non-null int64\n",
      "Fwd Packet Length Min          529481 non-null int64\n",
      "Fwd Packet Length Mean         529481 non-null float64\n",
      "Fwd Packet Length Std          529481 non-null float64\n",
      "Bwd Packet Length Max          529481 non-null int64\n",
      "Bwd Packet Length Min          529481 non-null int64\n",
      "Bwd Packet Length Mean         529481 non-null float64\n",
      "Bwd Packet Length Std          529481 non-null float64\n",
      "Flow Bytes per sec             529481 non-null float64\n",
      "Flow Packets per sec           529481 non-null float64\n",
      "Flow IAT Mean                  529481 non-null float64\n",
      "Flow IAT Std                   529481 non-null float64\n",
      "Flow IAT Max                   529481 non-null int64\n",
      "Flow IAT Min                   529481 non-null int64\n",
      "Fwd IAT Total                  529481 non-null int64\n",
      "Fwd IAT Mean                   529481 non-null float64\n",
      "Fwd IAT Std                    529481 non-null float64\n",
      "Fwd IAT Max                    529481 non-null int64\n",
      "Fwd IAT Min                    529481 non-null int64\n",
      "Bwd IAT Total                  529481 non-null int64\n",
      "Bwd IAT Mean                   529481 non-null float64\n",
      "Bwd IAT Std                    529481 non-null float64\n",
      "Bwd IAT Max                    529481 non-null int64\n",
      "Bwd IAT Min                    529481 non-null int64\n",
      "Fwd PSH Flags                  529481 non-null int64\n",
      "Bwd PSH Flags                  529481 non-null int64\n",
      "Fwd URG Flags                  529481 non-null int64\n",
      "Bwd URG Flags                  529481 non-null int64\n",
      "Fwd Header Length              529481 non-null int64\n",
      "Bwd Header Length              529481 non-null int64\n",
      "Fwd Packets per sec            529481 non-null float64\n",
      "Bwd Packets per sec            529481 non-null float64\n",
      "Min Packet Length              529481 non-null int64\n",
      "Max Packet Length              529481 non-null int64\n",
      "Packet Length Mean             529481 non-null float64\n",
      "Packet Length Std              529481 non-null float64\n",
      "Packet Length Variance         529481 non-null float64\n",
      "FIN Flag Count                 529481 non-null int64\n",
      "SYN Flag Count                 529481 non-null int64\n",
      "RST Flag Count                 529481 non-null int64\n",
      "PSH Flag Count                 529481 non-null int64\n",
      "ACK Flag Count                 529481 non-null int64\n",
      "URG Flag Count                 529481 non-null int64\n",
      "CWE Flag Count                 529481 non-null int64\n",
      "ECE Flag Count                 529481 non-null int64\n",
      "Down Up Ratio                  529481 non-null int64\n",
      "Average Packet Size            529481 non-null float64\n",
      "Avg Fwd Segment Size           529481 non-null float64\n",
      "Avg Bwd Segment Size           529481 non-null float64\n",
      "Fwd Header Length.1            529481 non-null int64\n",
      "Fwd Avg Bytes per Bulk         529481 non-null int64\n",
      "Fwd Avg Packets per Bulk       529481 non-null int64\n",
      "Fwd Avg Bulk Rate              529481 non-null int64\n",
      "Bwd Avg Bytes per Bulk         529481 non-null int64\n",
      "Bwd Avg Packets per Bulk       529481 non-null int64\n",
      "Bwd Avg Bulk Rate              529481 non-null int64\n",
      "Subflow Fwd Packets            529481 non-null int64\n",
      "Subflow Fwd Bytes              529481 non-null int64\n",
      "Subflow Bwd Packets            529481 non-null int64\n",
      "Subflow Bwd Bytes              529481 non-null int64\n",
      "Init_Win_bytes_forward         529481 non-null int64\n",
      "Init_Win_bytes_backward        529481 non-null int64\n",
      "act_data_pkt_fwd               529481 non-null int64\n",
      "min_seg_size_forward           529481 non-null int64\n",
      "Active Mean                    529481 non-null float64\n",
      "Active Std                     529481 non-null float64\n",
      "Active Max                     529481 non-null int64\n",
      "Active Min                     529481 non-null int64\n",
      "Idle Mean                      529481 non-null float64\n",
      "Idle Std                       529481 non-null float64\n",
      "Idle Max                       529481 non-null int64\n",
      "Idle Min                       529481 non-null int64\n",
      "Label                          529481 non-null object\n",
      "dtypes: float64(24), int64(54), object(1)\n",
      "memory usage: 323.2+ MB\n"
     ]
    }
   ],
   "source": [
    "final_df.info()"
   ]
  },
  {
   "cell_type": "markdown",
   "metadata": {},
   "source": [
    "Finally, we notice there are two columns called **Fwd Header Length** and **Fwd Header Length.1**. We check if they are identical and drop one of them if true."
   ]
  },
  {
   "cell_type": "code",
   "execution_count": 13,
   "metadata": {},
   "outputs": [],
   "source": [
    "if sum(final_df['Fwd Header Length']-final_df['Fwd Header Length.1'])==0:\n",
    "    final_df.drop(['Fwd Header Length.1'],axis=1,inplace=True)"
   ]
  },
  {
   "cell_type": "markdown",
   "metadata": {},
   "source": [
    "Now that our data frame is clean, we can pickle it into the cleaned data directory."
   ]
  },
  {
   "cell_type": "code",
   "execution_count": 14,
   "metadata": {},
   "outputs": [],
   "source": [
    "final_df.to_pickle('../data/cleaned/'+day_of_week+'_clean.pkl')"
   ]
  },
  {
   "cell_type": "markdown",
   "metadata": {},
   "source": [
    "## Data Processing"
   ]
  },
  {
   "cell_type": "markdown",
   "metadata": {},
   "source": [
    "Let's start by plotting histograms of the features we have in our dataset. All files are saved into the ./figures directory for later referencing."
   ]
  },
  {
   "cell_type": "code",
   "execution_count": 16,
   "metadata": {},
   "outputs": [],
   "source": [
    "features=final_df.columns.values"
   ]
  },
  {
   "cell_type": "code",
   "execution_count": 18,
   "metadata": {
    "scrolled": true
   },
   "outputs": [],
   "source": [
    "for index, feature in enumerate(features,1):\n",
    "    fig = plt.figure()\n",
    "    final_df[feature].hist()\n",
    "    plt.title(feature+' Distribution')\n",
    "    plt.xlabel('Value')\n",
    "    plt.ylabel('Count')\n",
    "    plt.savefig('./figures/'+day_of_week+'/original_features/'+str(index)+'_'+feature+'_Histogram.png')\n",
    "    plt.close(fig)"
   ]
  },
  {
   "cell_type": "markdown",
   "metadata": {},
   "source": [
    "A cursory look at the histograms show us two things:\n",
    "\n",
    "1. Some of the values seem to have a single spike indicating we need to look for features with a single value. Since these features carry no information, we should identify and remove them from the data frame.\n",
    "\n",
    "2. The range of values for most of the attributes is quite large, resulting in largely skewed distributions. A log transform should be applied."
   ]
  },
  {
   "cell_type": "markdown",
   "metadata": {},
   "source": [
    "### 1.  Find the columns that have a single value and drop them from the dataframe"
   ]
  },
  {
   "cell_type": "code",
   "execution_count": 21,
   "metadata": {},
   "outputs": [
    {
     "data": {
      "text/plain": [
       "['Bwd PSH Flags',\n",
       " 'Fwd URG Flags',\n",
       " 'Bwd URG Flags',\n",
       " 'CWE Flag Count',\n",
       " 'Fwd Avg Bytes per Bulk',\n",
       " 'Fwd Avg Packets per Bulk',\n",
       " 'Fwd Avg Bulk Rate',\n",
       " 'Bwd Avg Bytes per Bulk',\n",
       " 'Bwd Avg Packets per Bulk',\n",
       " 'Bwd Avg Bulk Rate']"
      ]
     },
     "execution_count": 21,
     "metadata": {},
     "output_type": "execute_result"
    }
   ],
   "source": [
    "columns_to_drop=[]\n",
    "for feature in features[0:-1]:  # Need to exclude the class label\n",
    "    if final_df[feature].unique().size==1:\n",
    "        columns_to_drop.append(feature)\n",
    "columns_to_drop"
   ]
  },
  {
   "cell_type": "code",
   "execution_count": 22,
   "metadata": {},
   "outputs": [],
   "source": [
    "reduced_df=final_df.drop(columns_to_drop,axis=1)"
   ]
  },
  {
   "cell_type": "code",
   "execution_count": 23,
   "metadata": {},
   "outputs": [
    {
     "data": {
      "text/plain": [
       "array(['Destination Port', 'Flow Duration', 'Total Fwd Packets',\n",
       "       'Total Backward Packets', 'Total Length of Fwd Packets',\n",
       "       'Total Length of Bwd Packets', 'Fwd Packet Length Max',\n",
       "       'Fwd Packet Length Min', 'Fwd Packet Length Mean',\n",
       "       'Fwd Packet Length Std', 'Bwd Packet Length Max',\n",
       "       'Bwd Packet Length Min', 'Bwd Packet Length Mean',\n",
       "       'Bwd Packet Length Std', 'Flow Bytes per sec',\n",
       "       'Flow Packets per sec', 'Flow IAT Mean', 'Flow IAT Std',\n",
       "       'Flow IAT Max', 'Flow IAT Min', 'Fwd IAT Total', 'Fwd IAT Mean',\n",
       "       'Fwd IAT Std', 'Fwd IAT Max', 'Fwd IAT Min', 'Bwd IAT Total',\n",
       "       'Bwd IAT Mean', 'Bwd IAT Std', 'Bwd IAT Max', 'Bwd IAT Min',\n",
       "       'Fwd PSH Flags', 'Fwd Header Length', 'Bwd Header Length',\n",
       "       'Fwd Packets per sec', 'Bwd Packets per sec', 'Min Packet Length',\n",
       "       'Max Packet Length', 'Packet Length Mean', 'Packet Length Std',\n",
       "       'Packet Length Variance', 'FIN Flag Count', 'SYN Flag Count',\n",
       "       'RST Flag Count', 'PSH Flag Count', 'ACK Flag Count',\n",
       "       'URG Flag Count', 'ECE Flag Count', 'Down Up Ratio',\n",
       "       'Average Packet Size', 'Avg Fwd Segment Size',\n",
       "       'Avg Bwd Segment Size', 'Subflow Fwd Packets', 'Subflow Fwd Bytes',\n",
       "       'Subflow Bwd Packets', 'Subflow Bwd Bytes',\n",
       "       'Init_Win_bytes_forward', 'Init_Win_bytes_backward',\n",
       "       'act_data_pkt_fwd', 'min_seg_size_forward', 'Active Mean',\n",
       "       'Active Std', 'Active Max', 'Active Min', 'Idle Mean', 'Idle Std',\n",
       "       'Idle Max', 'Idle Min', 'Label'], dtype=object)"
      ]
     },
     "execution_count": 23,
     "metadata": {},
     "output_type": "execute_result"
    }
   ],
   "source": [
    "reduced_features=reduced_df.columns.values\n",
    "reduced_features"
   ]
  },
  {
   "cell_type": "markdown",
   "metadata": {},
   "source": [
    "10 features have been removed, leaving us with 78-10=68 features. \n",
    "\n",
    "Let's save their histograms in a separate directory. This will help us choose features for further transformations to come from the remaining feature set."
   ]
  },
  {
   "cell_type": "code",
   "execution_count": 24,
   "metadata": {},
   "outputs": [],
   "source": [
    "for index, feature in enumerate(reduced_features,1):\n",
    "    fig = plt.figure()\n",
    "    reduced_df[feature].hist()\n",
    "    plt.title(feature+' Distribution')\n",
    "    plt.xlabel('Value')\n",
    "    plt.ylabel('Count')\n",
    "    plt.savefig('./figures/'+day_of_week+'/reduced_features/'+str(index)+'_'+feature+'_Histogram.png')\n",
    "    plt.close(fig)"
   ]
  },
  {
   "cell_type": "code",
   "execution_count": 25,
   "metadata": {},
   "outputs": [],
   "source": [
    "reduced_df.to_pickle('../data/processed/Reduced/'+day_of_week+'_processed.pkl')"
   ]
  },
  {
   "cell_type": "markdown",
   "metadata": {},
   "source": [
    "### 2. Skewness transforms\n",
    "\n",
    "The histograms also showed us that the range of values for some of the features was very large, resulting in largely skewed values. Now let's try to do a transform on the remaining features to try to reshape their distribution to a more \"normal\" looking form."
   ]
  },
  {
   "cell_type": "code",
   "execution_count": 26,
   "metadata": {
    "scrolled": true
   },
   "outputs": [],
   "source": [
    "transform_candidates=np.array(['Flow Duration', 'Total Fwd Packets',\n",
    "       'Total Backward Packets', 'Total Length of Fwd Packets',\n",
    "       'Total Length of Bwd Packets', 'Fwd Packet Length Max',\n",
    "       'Fwd Packet Length Min', 'Fwd Packet Length Mean',\n",
    "       'Fwd Packet Length Std', 'Bwd Packet Length Max',\n",
    "       'Bwd Packet Length Min', 'Bwd Packet Length Mean',\n",
    "       'Bwd Packet Length Std', 'Flow Bytes per sec',\n",
    "       'Flow Packets per sec', 'Flow IAT Mean', 'Flow IAT Std',\n",
    "       'Flow IAT Max', 'Flow IAT Min', 'Fwd IAT Total', 'Fwd IAT Mean',\n",
    "       'Fwd IAT Std', 'Fwd IAT Max', 'Fwd IAT Min', 'Bwd IAT Total',\n",
    "       'Bwd IAT Mean', 'Bwd IAT Std', 'Bwd IAT Max', 'Bwd IAT Min',\n",
    "       'Fwd Header Length', 'Bwd Header Length',\n",
    "       'Fwd Packets per sec', 'Bwd Packets per sec', 'Min Packet Length',\n",
    "       'Max Packet Length', 'Packet Length Mean', 'Packet Length Std',\n",
    "       'Packet Length Variance',  'Down Up Ratio',\n",
    "       'Average Packet Size', 'Avg Fwd Segment Size',\n",
    "       'Avg Bwd Segment Size', 'Subflow Fwd Packets', 'Subflow Fwd Bytes',\n",
    "       'Subflow Bwd Packets', 'Subflow Bwd Bytes',\n",
    "       'Init_Win_bytes_forward', 'Init_Win_bytes_backward',\n",
    "       'act_data_pkt_fwd', 'min_seg_size_forward', 'Active Mean',\n",
    "       'Active Std', 'Active Max', 'Active Min', 'Idle Mean', 'Idle Std',\n",
    "       'Idle Max', 'Idle Min'])"
   ]
  },
  {
   "cell_type": "markdown",
   "metadata": {},
   "source": [
    "There are 10 (one being the class label) features excluded from the transformation list. These features are binary valued, therefore transformation does not make sense."
   ]
  },
  {
   "cell_type": "code",
   "execution_count": 27,
   "metadata": {},
   "outputs": [
    {
     "data": {
      "text/plain": [
       "array(['ACK Flag Count', 'Destination Port', 'ECE Flag Count',\n",
       "       'FIN Flag Count', 'Fwd PSH Flags', 'Label', 'PSH Flag Count',\n",
       "       'RST Flag Count', 'SYN Flag Count', 'URG Flag Count'], dtype=object)"
      ]
     },
     "execution_count": 27,
     "metadata": {},
     "output_type": "execute_result"
    }
   ],
   "source": [
    "no_transform_features=np.setdiff1d(reduced_features,transform_candidates)\n",
    "no_transform_features"
   ]
  },
  {
   "cell_type": "markdown",
   "metadata": {},
   "source": [
    "Since there are both positive and negative values across attributes as well as zero values, a log transform does not work. The standard transformer in this case is the 'Yeo-Johnson' transformation. \n",
    "\n",
    "Read more at: https://scikit-learn.org/stable/modules/preprocessing.html#preprocessing-transformer"
   ]
  },
  {
   "cell_type": "code",
   "execution_count": 28,
   "metadata": {},
   "outputs": [],
   "source": [
    "transformed_df=pandas.DataFrame()\n",
    "\n",
    "for feature in reduced_features:\n",
    "    if feature in transform_candidates:\n",
    "        transformed_df.loc[:,feature]=power_transform(reduced_df.loc[:,feature].values.reshape(-1,1),method='yeo-johnson')\n",
    "    else:\n",
    "        transformed_df.loc[:,feature]=reduced_df.loc[:,feature]"
   ]
  },
  {
   "cell_type": "code",
   "execution_count": 29,
   "metadata": {},
   "outputs": [
    {
     "data": {
      "text/html": [
       "<div>\n",
       "<style scoped>\n",
       "    .dataframe tbody tr th:only-of-type {\n",
       "        vertical-align: middle;\n",
       "    }\n",
       "\n",
       "    .dataframe tbody tr th {\n",
       "        vertical-align: top;\n",
       "    }\n",
       "\n",
       "    .dataframe thead th {\n",
       "        text-align: right;\n",
       "    }\n",
       "</style>\n",
       "<table border=\"1\" class=\"dataframe\">\n",
       "  <thead>\n",
       "    <tr style=\"text-align: right;\">\n",
       "      <th></th>\n",
       "      <th>Destination Port</th>\n",
       "      <th>Flow Duration</th>\n",
       "      <th>Total Fwd Packets</th>\n",
       "      <th>Total Backward Packets</th>\n",
       "      <th>Total Length of Fwd Packets</th>\n",
       "      <th>Total Length of Bwd Packets</th>\n",
       "      <th>Fwd Packet Length Max</th>\n",
       "      <th>Fwd Packet Length Min</th>\n",
       "      <th>Fwd Packet Length Mean</th>\n",
       "      <th>Fwd Packet Length Std</th>\n",
       "      <th>...</th>\n",
       "      <th>act_data_pkt_fwd</th>\n",
       "      <th>min_seg_size_forward</th>\n",
       "      <th>Active Mean</th>\n",
       "      <th>Active Std</th>\n",
       "      <th>Active Max</th>\n",
       "      <th>Active Min</th>\n",
       "      <th>Idle Mean</th>\n",
       "      <th>Idle Std</th>\n",
       "      <th>Idle Max</th>\n",
       "      <th>Idle Min</th>\n",
       "    </tr>\n",
       "  </thead>\n",
       "  <tbody>\n",
       "    <tr>\n",
       "      <td>count</td>\n",
       "      <td>529481.000000</td>\n",
       "      <td>5.294810e+05</td>\n",
       "      <td>5.294810e+05</td>\n",
       "      <td>5.294810e+05</td>\n",
       "      <td>5.294810e+05</td>\n",
       "      <td>5.294810e+05</td>\n",
       "      <td>5.294810e+05</td>\n",
       "      <td>5.294810e+05</td>\n",
       "      <td>5.294810e+05</td>\n",
       "      <td>5.294810e+05</td>\n",
       "      <td>...</td>\n",
       "      <td>5.294810e+05</td>\n",
       "      <td>5.294810e+05</td>\n",
       "      <td>5.294810e+05</td>\n",
       "      <td>5.294810e+05</td>\n",
       "      <td>5.294810e+05</td>\n",
       "      <td>5.294810e+05</td>\n",
       "      <td>5.294810e+05</td>\n",
       "      <td>5.294810e+05</td>\n",
       "      <td>5.294810e+05</td>\n",
       "      <td>5.294810e+05</td>\n",
       "    </tr>\n",
       "    <tr>\n",
       "      <td>mean</td>\n",
       "      <td>10630.809682</td>\n",
       "      <td>1.803595e-17</td>\n",
       "      <td>6.999667e-16</td>\n",
       "      <td>-4.852530e-16</td>\n",
       "      <td>3.663016e-16</td>\n",
       "      <td>7.600866e-17</td>\n",
       "      <td>-3.761784e-16</td>\n",
       "      <td>6.183755e-17</td>\n",
       "      <td>-1.082157e-16</td>\n",
       "      <td>-4.251332e-16</td>\n",
       "      <td>...</td>\n",
       "      <td>-3.100466e-16</td>\n",
       "      <td>-6.969608e-16</td>\n",
       "      <td>1.537350e-16</td>\n",
       "      <td>-1.425699e-16</td>\n",
       "      <td>1.223868e-16</td>\n",
       "      <td>-2.464914e-16</td>\n",
       "      <td>1.627530e-16</td>\n",
       "      <td>-1.228163e-16</td>\n",
       "      <td>-5.754328e-17</td>\n",
       "      <td>5.883156e-17</td>\n",
       "    </tr>\n",
       "    <tr>\n",
       "      <td>std</td>\n",
       "      <td>21380.212038</td>\n",
       "      <td>1.000001e+00</td>\n",
       "      <td>1.000001e+00</td>\n",
       "      <td>1.000001e+00</td>\n",
       "      <td>1.000001e+00</td>\n",
       "      <td>1.000001e+00</td>\n",
       "      <td>1.000001e+00</td>\n",
       "      <td>1.000001e+00</td>\n",
       "      <td>1.000001e+00</td>\n",
       "      <td>1.000001e+00</td>\n",
       "      <td>...</td>\n",
       "      <td>1.000001e+00</td>\n",
       "      <td>1.000001e+00</td>\n",
       "      <td>1.000001e+00</td>\n",
       "      <td>1.000001e+00</td>\n",
       "      <td>1.000001e+00</td>\n",
       "      <td>1.000001e+00</td>\n",
       "      <td>1.000001e+00</td>\n",
       "      <td>1.000001e+00</td>\n",
       "      <td>1.000001e+00</td>\n",
       "      <td>1.000001e+00</td>\n",
       "    </tr>\n",
       "    <tr>\n",
       "      <td>min</td>\n",
       "      <td>0.000000</td>\n",
       "      <td>-2.336667e+00</td>\n",
       "      <td>-1.316821e+00</td>\n",
       "      <td>-1.728768e+00</td>\n",
       "      <td>-1.831608e+00</td>\n",
       "      <td>-1.393661e+00</td>\n",
       "      <td>-1.805639e+00</td>\n",
       "      <td>-1.111712e+00</td>\n",
       "      <td>-1.839440e+00</td>\n",
       "      <td>-7.152308e-01</td>\n",
       "      <td>...</td>\n",
       "      <td>-1.239444e+00</td>\n",
       "      <td>-1.070659e+01</td>\n",
       "      <td>-4.076784e-01</td>\n",
       "      <td>-3.002066e-01</td>\n",
       "      <td>-4.076444e-01</td>\n",
       "      <td>-4.075223e-01</td>\n",
       "      <td>-4.094466e-01</td>\n",
       "      <td>-3.008954e-01</td>\n",
       "      <td>-4.094466e-01</td>\n",
       "      <td>-4.094466e-01</td>\n",
       "    </tr>\n",
       "    <tr>\n",
       "      <td>25%</td>\n",
       "      <td>53.000000</td>\n",
       "      <td>-8.991322e-01</td>\n",
       "      <td>-2.162433e-01</td>\n",
       "      <td>-4.464220e-01</td>\n",
       "      <td>-5.771580e-01</td>\n",
       "      <td>-1.393661e+00</td>\n",
       "      <td>-8.906309e-01</td>\n",
       "      <td>-1.111712e+00</td>\n",
       "      <td>-9.450393e-01</td>\n",
       "      <td>-7.152308e-01</td>\n",
       "      <td>...</td>\n",
       "      <td>-1.239444e+00</td>\n",
       "      <td>-9.585500e-01</td>\n",
       "      <td>-4.076784e-01</td>\n",
       "      <td>-3.002066e-01</td>\n",
       "      <td>-4.076444e-01</td>\n",
       "      <td>-4.075223e-01</td>\n",
       "      <td>-4.094466e-01</td>\n",
       "      <td>-3.008954e-01</td>\n",
       "      <td>-4.094466e-01</td>\n",
       "      <td>-4.094466e-01</td>\n",
       "    </tr>\n",
       "    <tr>\n",
       "      <td>50%</td>\n",
       "      <td>80.000000</td>\n",
       "      <td>1.486239e-01</td>\n",
       "      <td>-2.162433e-01</td>\n",
       "      <td>1.319021e-01</td>\n",
       "      <td>8.951223e-03</td>\n",
       "      <td>2.219666e-01</td>\n",
       "      <td>-7.595747e-03</td>\n",
       "      <td>7.704517e-04</td>\n",
       "      <td>2.215489e-01</td>\n",
       "      <td>-7.152308e-01</td>\n",
       "      <td>...</td>\n",
       "      <td>4.728182e-02</td>\n",
       "      <td>8.475043e-01</td>\n",
       "      <td>-4.076784e-01</td>\n",
       "      <td>-3.002066e-01</td>\n",
       "      <td>-4.076444e-01</td>\n",
       "      <td>-4.075223e-01</td>\n",
       "      <td>-4.094466e-01</td>\n",
       "      <td>-3.008954e-01</td>\n",
       "      <td>-4.094466e-01</td>\n",
       "      <td>-4.094466e-01</td>\n",
       "    </tr>\n",
       "    <tr>\n",
       "      <td>75%</td>\n",
       "      <td>443.000000</td>\n",
       "      <td>6.219315e-01</td>\n",
       "      <td>6.772200e-01</td>\n",
       "      <td>4.805010e-01</td>\n",
       "      <td>4.807438e-01</td>\n",
       "      <td>5.435348e-01</td>\n",
       "      <td>3.654715e-01</td>\n",
       "      <td>1.029229e+00</td>\n",
       "      <td>4.950929e-01</td>\n",
       "      <td>1.222069e+00</td>\n",
       "      <td>...</td>\n",
       "      <td>8.858175e-01</td>\n",
       "      <td>8.475043e-01</td>\n",
       "      <td>-4.076784e-01</td>\n",
       "      <td>-3.002066e-01</td>\n",
       "      <td>-4.076444e-01</td>\n",
       "      <td>-4.075223e-01</td>\n",
       "      <td>-4.094466e-01</td>\n",
       "      <td>-3.008954e-01</td>\n",
       "      <td>-4.094466e-01</td>\n",
       "      <td>-4.094466e-01</td>\n",
       "    </tr>\n",
       "    <tr>\n",
       "      <td>max</td>\n",
       "      <td>65535.000000</td>\n",
       "      <td>1.705244e+00</td>\n",
       "      <td>2.075000e+00</td>\n",
       "      <td>2.885099e+00</td>\n",
       "      <td>5.345473e+00</td>\n",
       "      <td>5.087221e+00</td>\n",
       "      <td>3.616290e+00</td>\n",
       "      <td>3.435815e+00</td>\n",
       "      <td>6.975575e+00</td>\n",
       "      <td>1.694175e+00</td>\n",
       "      <td>...</td>\n",
       "      <td>2.452780e+00</td>\n",
       "      <td>3.145227e+01</td>\n",
       "      <td>2.463489e+00</td>\n",
       "      <td>3.334635e+00</td>\n",
       "      <td>2.464259e+00</td>\n",
       "      <td>2.466585e+00</td>\n",
       "      <td>2.444133e+00</td>\n",
       "      <td>3.324351e+00</td>\n",
       "      <td>2.444121e+00</td>\n",
       "      <td>2.444200e+00</td>\n",
       "    </tr>\n",
       "  </tbody>\n",
       "</table>\n",
       "<p>8 rows × 67 columns</p>\n",
       "</div>"
      ],
      "text/plain": [
       "       Destination Port  Flow Duration  Total Fwd Packets  \\\n",
       "count     529481.000000   5.294810e+05       5.294810e+05   \n",
       "mean       10630.809682   1.803595e-17       6.999667e-16   \n",
       "std        21380.212038   1.000001e+00       1.000001e+00   \n",
       "min            0.000000  -2.336667e+00      -1.316821e+00   \n",
       "25%           53.000000  -8.991322e-01      -2.162433e-01   \n",
       "50%           80.000000   1.486239e-01      -2.162433e-01   \n",
       "75%          443.000000   6.219315e-01       6.772200e-01   \n",
       "max        65535.000000   1.705244e+00       2.075000e+00   \n",
       "\n",
       "       Total Backward Packets  Total Length of Fwd Packets  \\\n",
       "count            5.294810e+05                 5.294810e+05   \n",
       "mean            -4.852530e-16                 3.663016e-16   \n",
       "std              1.000001e+00                 1.000001e+00   \n",
       "min             -1.728768e+00                -1.831608e+00   \n",
       "25%             -4.464220e-01                -5.771580e-01   \n",
       "50%              1.319021e-01                 8.951223e-03   \n",
       "75%              4.805010e-01                 4.807438e-01   \n",
       "max              2.885099e+00                 5.345473e+00   \n",
       "\n",
       "       Total Length of Bwd Packets  Fwd Packet Length Max  \\\n",
       "count                 5.294810e+05           5.294810e+05   \n",
       "mean                  7.600866e-17          -3.761784e-16   \n",
       "std                   1.000001e+00           1.000001e+00   \n",
       "min                  -1.393661e+00          -1.805639e+00   \n",
       "25%                  -1.393661e+00          -8.906309e-01   \n",
       "50%                   2.219666e-01          -7.595747e-03   \n",
       "75%                   5.435348e-01           3.654715e-01   \n",
       "max                   5.087221e+00           3.616290e+00   \n",
       "\n",
       "       Fwd Packet Length Min  Fwd Packet Length Mean  Fwd Packet Length Std  \\\n",
       "count           5.294810e+05            5.294810e+05           5.294810e+05   \n",
       "mean            6.183755e-17           -1.082157e-16          -4.251332e-16   \n",
       "std             1.000001e+00            1.000001e+00           1.000001e+00   \n",
       "min            -1.111712e+00           -1.839440e+00          -7.152308e-01   \n",
       "25%            -1.111712e+00           -9.450393e-01          -7.152308e-01   \n",
       "50%             7.704517e-04            2.215489e-01          -7.152308e-01   \n",
       "75%             1.029229e+00            4.950929e-01           1.222069e+00   \n",
       "max             3.435815e+00            6.975575e+00           1.694175e+00   \n",
       "\n",
       "       ...  act_data_pkt_fwd  min_seg_size_forward   Active Mean  \\\n",
       "count  ...      5.294810e+05          5.294810e+05  5.294810e+05   \n",
       "mean   ...     -3.100466e-16         -6.969608e-16  1.537350e-16   \n",
       "std    ...      1.000001e+00          1.000001e+00  1.000001e+00   \n",
       "min    ...     -1.239444e+00         -1.070659e+01 -4.076784e-01   \n",
       "25%    ...     -1.239444e+00         -9.585500e-01 -4.076784e-01   \n",
       "50%    ...      4.728182e-02          8.475043e-01 -4.076784e-01   \n",
       "75%    ...      8.858175e-01          8.475043e-01 -4.076784e-01   \n",
       "max    ...      2.452780e+00          3.145227e+01  2.463489e+00   \n",
       "\n",
       "         Active Std    Active Max    Active Min     Idle Mean      Idle Std  \\\n",
       "count  5.294810e+05  5.294810e+05  5.294810e+05  5.294810e+05  5.294810e+05   \n",
       "mean  -1.425699e-16  1.223868e-16 -2.464914e-16  1.627530e-16 -1.228163e-16   \n",
       "std    1.000001e+00  1.000001e+00  1.000001e+00  1.000001e+00  1.000001e+00   \n",
       "min   -3.002066e-01 -4.076444e-01 -4.075223e-01 -4.094466e-01 -3.008954e-01   \n",
       "25%   -3.002066e-01 -4.076444e-01 -4.075223e-01 -4.094466e-01 -3.008954e-01   \n",
       "50%   -3.002066e-01 -4.076444e-01 -4.075223e-01 -4.094466e-01 -3.008954e-01   \n",
       "75%   -3.002066e-01 -4.076444e-01 -4.075223e-01 -4.094466e-01 -3.008954e-01   \n",
       "max    3.334635e+00  2.464259e+00  2.466585e+00  2.444133e+00  3.324351e+00   \n",
       "\n",
       "           Idle Max      Idle Min  \n",
       "count  5.294810e+05  5.294810e+05  \n",
       "mean  -5.754328e-17  5.883156e-17  \n",
       "std    1.000001e+00  1.000001e+00  \n",
       "min   -4.094466e-01 -4.094466e-01  \n",
       "25%   -4.094466e-01 -4.094466e-01  \n",
       "50%   -4.094466e-01 -4.094466e-01  \n",
       "75%   -4.094466e-01 -4.094466e-01  \n",
       "max    2.444121e+00  2.444200e+00  \n",
       "\n",
       "[8 rows x 67 columns]"
      ]
     },
     "execution_count": 29,
     "metadata": {},
     "output_type": "execute_result"
    }
   ],
   "source": [
    "transformed_df.describe()"
   ]
  },
  {
   "cell_type": "markdown",
   "metadata": {},
   "source": [
    "We save the histograms of the transformed features once again to confirm that transformations have worked as intended."
   ]
  },
  {
   "cell_type": "code",
   "execution_count": 30,
   "metadata": {},
   "outputs": [],
   "source": [
    "for index, feature in enumerate(reduced_features,1):\n",
    "    fig = plt.figure()\n",
    "    transformed_df[feature].hist()\n",
    "    plt.title(feature+' Distribution')\n",
    "    plt.xlabel('Value')\n",
    "    plt.ylabel('Count')\n",
    "    plt.savefig('./figures/'+day_of_week+'/transformed_features/'+str(index)+'_'+feature+'_Histogram.png')\n",
    "    plt.close(fig)"
   ]
  },
  {
   "cell_type": "markdown",
   "metadata": {},
   "source": [
    "We finally pickle the resulting data frame after processing into the processed data directory."
   ]
  },
  {
   "cell_type": "code",
   "execution_count": 31,
   "metadata": {},
   "outputs": [],
   "source": [
    "transformed_df.to_pickle('../data/processed/Normalized/'+day_of_week+'_processed.pkl')"
   ]
  },
  {
   "cell_type": "code",
   "execution_count": null,
   "metadata": {},
   "outputs": [],
   "source": []
  }
 ],
 "metadata": {
  "kernelspec": {
   "display_name": "Python [conda env:insight]",
   "language": "python",
   "name": "conda-env-insight-py"
  },
  "language_info": {
   "codemirror_mode": {
    "name": "ipython",
    "version": 3
   },
   "file_extension": ".py",
   "mimetype": "text/x-python",
   "name": "python",
   "nbconvert_exporter": "python",
   "pygments_lexer": "ipython3",
   "version": "3.7.4"
  }
 },
 "nbformat": 4,
 "nbformat_minor": 4
}
